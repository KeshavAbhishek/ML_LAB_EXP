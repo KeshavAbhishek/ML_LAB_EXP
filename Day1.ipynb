{
 "cells": [
  {
   "cell_type": "markdown",
   "metadata": {},
   "source": [
    "# Experiment 1\n",
    "***"
   ]
  },
  {
   "cell_type": "markdown",
   "metadata": {
    "id": "BQmXa055BV9i"
   },
   "source": [
    "#### Q1. Create a Python list containing the names of five countries. Perform the following operations:\n",
    "* a. Add two more countries to the list.\n",
    "* b. Print the third country in the list.\n",
    "* c. Sort the list in alphabetical order.\n",
    "* d. Check if a country \"India\" is present in the list."
   ]
  },
  {
   "cell_type": "code",
   "execution_count": 2,
   "metadata": {
    "id": "E6bAhQSqBV9k"
   },
   "outputs": [],
   "source": [
    "# List operations\n",
    "countries = [\"USA\", \"Canada\", \"France\", \"Germany\", \"Japan\"]"
   ]
  },
  {
   "cell_type": "code",
   "execution_count": 3,
   "metadata": {
    "id": "iBeVWIgIBV9l"
   },
   "outputs": [],
   "source": [
    "# a. Add two more countries to the list\n",
    "countries.append(\"Australia\")\n",
    "countries.append(\"Brazil\")"
   ]
  },
  {
   "cell_type": "code",
   "execution_count": 4,
   "metadata": {
    "colab": {
     "base_uri": "https://localhost:8080/",
     "height": 0
    },
    "id": "c0uXo16cBV9l",
    "outputId": "48d5bd79-c377-4bce-886f-a839a1c0b1dd"
   },
   "outputs": [
    {
     "name": "stdout",
     "output_type": "stream",
     "text": [
      "Third country in the list: France\n"
     ]
    }
   ],
   "source": [
    "# b. Print the third country in the list\n",
    "print(\"Third country in the list:\", countries[2])"
   ]
  },
  {
   "cell_type": "code",
   "execution_count": 5,
   "metadata": {
    "colab": {
     "base_uri": "https://localhost:8080/",
     "height": 0
    },
    "id": "xxSHGuD2BV9m",
    "outputId": "60ed0cb5-b64f-4b58-8b9e-6af628b2d052"
   },
   "outputs": [
    {
     "name": "stdout",
     "output_type": "stream",
     "text": [
      "Sorted list of countries: ['Australia', 'Brazil', 'Canada', 'France', 'Germany', 'Japan', 'USA']\n"
     ]
    }
   ],
   "source": [
    "# c. Sort the list in alphabetical order\n",
    "countries.sort()\n",
    "print(\"Sorted list of countries:\", countries)"
   ]
  },
  {
   "cell_type": "code",
   "execution_count": 6,
   "metadata": {
    "colab": {
     "base_uri": "https://localhost:8080/",
     "height": 0
    },
    "id": "qr9__JzIBV9m",
    "outputId": "5c779a59-302a-4a5c-8585-229981ed735f"
   },
   "outputs": [
    {
     "name": "stdout",
     "output_type": "stream",
     "text": [
      "Is 'India' present in the list? False\n"
     ]
    }
   ],
   "source": [
    "# d. Check if \"India\" is present in the list\n",
    "is_india_present = \"India\" in countries\n",
    "print(\"Is 'India' present in the list?\", is_india_present)"
   ]
  },
  {
   "cell_type": "markdown",
   "metadata": {
    "id": "NYxFKBgiBV9n"
   },
   "source": [
    "### Create a tuple with five elements, each representing the price of a product. Perform the following operations:\n",
    "* a. Find the maximum and minimum price from the tuple.\n",
    "* b. Calculate the total cost of all products.\n",
    "* c. Convert the tuple to a list and add a new product with its price.\n",
    "* d. Calculate the average price of the products."
   ]
  },
  {
   "cell_type": "code",
   "execution_count": 7,
   "metadata": {
    "id": "jP7Mmn7YBV9n"
   },
   "outputs": [],
   "source": [
    "# Tuple operations\n",
    "prices = (10.99, 23.45, 5.99, 15.75, 9.30)"
   ]
  },
  {
   "cell_type": "code",
   "execution_count": 8,
   "metadata": {
    "colab": {
     "base_uri": "https://localhost:8080/",
     "height": 0
    },
    "id": "q4w2Dl7iBV9n",
    "outputId": "50d35b45-a421-4bac-d1be-8c5e90b83455"
   },
   "outputs": [
    {
     "name": "stdout",
     "output_type": "stream",
     "text": [
      "Maximum price: 23.45\n",
      "Minimum price: 5.99\n"
     ]
    }
   ],
   "source": [
    "# a. Find the maximum and minimum price from the tuple\n",
    "max_price = max(prices)\n",
    "min_price = min(prices)\n",
    "print(\"Maximum price:\", max_price)\n",
    "print(\"Minimum price:\", min_price)"
   ]
  },
  {
   "cell_type": "code",
   "execution_count": 9,
   "metadata": {
    "colab": {
     "base_uri": "https://localhost:8080/",
     "height": 0
    },
    "id": "1hz_1JkYBV9n",
    "outputId": "4ada0466-cdb6-4c30-848e-c6355aa7a153"
   },
   "outputs": [
    {
     "name": "stdout",
     "output_type": "stream",
     "text": [
      "Total cost of all products: 65.48\n"
     ]
    }
   ],
   "source": [
    "# b. Calculate the total cost of all products\n",
    "total_cost = sum(prices)\n",
    "print(\"Total cost of all products:\", total_cost)"
   ]
  },
  {
   "cell_type": "code",
   "execution_count": 10,
   "metadata": {
    "colab": {
     "base_uri": "https://localhost:8080/",
     "height": 0
    },
    "id": "yU-bxacZBV9n",
    "outputId": "66fd3e0c-e99c-4953-8ec1-717fe8552caa"
   },
   "outputs": [
    {
     "name": "stdout",
     "output_type": "stream",
     "text": [
      "Prices list after adding new product: [10.99, 23.45, 5.99, 15.75, 9.3, 12.5]\n"
     ]
    }
   ],
   "source": [
    "# c. Convert the tuple to a list and add a new product with its price\n",
    "prices_list = list(prices)\n",
    "prices_list.append(12.50)\n",
    "print(\"Prices list after adding new product:\", prices_list)"
   ]
  },
  {
   "cell_type": "code",
   "execution_count": 11,
   "metadata": {
    "colab": {
     "base_uri": "https://localhost:8080/",
     "height": 0
    },
    "id": "b4NlWMeyBV9n",
    "outputId": "7bdffed0-8d07-4d8d-8c8f-ac7aedefa9f6"
   },
   "outputs": [
    {
     "name": "stdout",
     "output_type": "stream",
     "text": [
      "Average price of the products: 12.996666666666668\n"
     ]
    }
   ],
   "source": [
    "# d. Calculate the average price of the products\n",
    "average_price = sum(prices_list) / len(prices_list)\n",
    "print(\"Average price of the products:\", average_price)"
   ]
  },
  {
   "cell_type": "markdown",
   "metadata": {
    "id": "7zVke3qZBsDG"
   },
   "source": [
    "#### Q2. Create a dictionary that represents the population of five cities. Perform the following operations:\n",
    "* a. Add two more cities and their populations to the dictionary.\n",
    "* b. Find the city with the highest population.\n",
    "* c. Check if a city \"London\" is present in the dictionary.\n",
    "* d. Remove a city and its population from the dictionary.\n"
   ]
  },
  {
   "cell_type": "code",
   "execution_count": 12,
   "metadata": {
    "id": "OPQA9XkABV9o"
   },
   "outputs": [],
   "source": [
    "# Population dictionary operations\n",
    "population = {\n",
    "    \"New York\": 8419000,\n",
    "    \"Los Angeles\": 3980000,\n",
    "    \"Chicago\": 2716000,\n",
    "    \"Houston\": 2328000,\n",
    "    \"Phoenix\": 1690000\n",
    "}"
   ]
  },
  {
   "cell_type": "code",
   "execution_count": 13,
   "metadata": {
    "id": "q-2PCjdQBV9o"
   },
   "outputs": [],
   "source": [
    "# a. Add two more cities and their populations to the dictionary\n",
    "population[\"San Antonio\"] = 1547200\n",
    "population[\"San Diego\"] = 1423851"
   ]
  },
  {
   "cell_type": "code",
   "execution_count": 14,
   "metadata": {
    "colab": {
     "base_uri": "https://localhost:8080/",
     "height": 0
    },
    "id": "lK5_XceHBV9o",
    "outputId": "5155f961-73df-41b9-cbed-75e01dfb5b98"
   },
   "outputs": [
    {
     "name": "stdout",
     "output_type": "stream",
     "text": [
      "City with the highest population: New York\n"
     ]
    }
   ],
   "source": [
    "# b. Find the city with the highest population\n",
    "highest_population_city = max(population, key=population.get)\n",
    "print(\"City with the highest population:\", highest_population_city)"
   ]
  },
  {
   "cell_type": "code",
   "execution_count": 15,
   "metadata": {
    "colab": {
     "base_uri": "https://localhost:8080/",
     "height": 0
    },
    "id": "8ZL-dg-BBV9o",
    "outputId": "335f1932-a48c-4b14-fa23-7688c13b9b4d"
   },
   "outputs": [
    {
     "name": "stdout",
     "output_type": "stream",
     "text": [
      "Is 'London' present in the dictionary? False\n"
     ]
    }
   ],
   "source": [
    "# c. Check if a city \"London\" is present in the dictionary\n",
    "is_london_present = \"London\" in population\n",
    "print(\"Is 'London' present in the dictionary?\", is_london_present)"
   ]
  },
  {
   "cell_type": "code",
   "execution_count": 16,
   "metadata": {
    "colab": {
     "base_uri": "https://localhost:8080/",
     "height": 0
    },
    "id": "ere3bfBIBV9o",
    "outputId": "dfe8b2aa-c634-4fc1-93d4-2b7218505d6e"
   },
   "outputs": [
    {
     "name": "stdout",
     "output_type": "stream",
     "text": [
      "Removed city and its population: 2716000\n",
      "Updated population dictionary: {'New York': 8419000, 'Los Angeles': 3980000, 'Houston': 2328000, 'Phoenix': 1690000, 'San Antonio': 1547200, 'San Diego': 1423851}\n"
     ]
    }
   ],
   "source": [
    "# d. Remove a city and its population from the dictionary\n",
    "removed_city = population.pop(\"Chicago\")\n",
    "print(\"Removed city and its population:\", removed_city)\n",
    "print(\"Updated population dictionary:\", population)"
   ]
  },
  {
   "cell_type": "markdown",
   "metadata": {
    "id": "jHXnCQe4BV9o"
   },
   "source": [
    "---"
   ]
  },
  {
   "cell_type": "markdown",
   "metadata": {
    "id": "DNWJHXHkB4mv"
   },
   "source": [
    "#### Create a dictionary that maps the names of students to their respective marks in an exam. Perform the following operations:\n",
    "* a. Add a new student and their marks to the dictionary.\n",
    "* b. Calculate the average marks of all students.\n",
    "* c. Find the student with the highest marks.\n",
    "* d. Sort the dictionary by student names in alphabetical order."
   ]
  },
  {
   "cell_type": "code",
   "execution_count": 17,
   "metadata": {
    "id": "yZF5Ge7NBV9p"
   },
   "outputs": [],
   "source": [
    "# Student marks dictionary operations\n",
    "marks = {\n",
    "    \"Aarav\": 85,\n",
    "    \"Vihaan\": 78,\n",
    "    \"Aadhya\": 92,\n",
    "    \"Diya\": 88,\n",
    "    \"Ishaan\": 90\n",
    "}"
   ]
  },
  {
   "cell_type": "code",
   "execution_count": 18,
   "metadata": {
    "colab": {
     "base_uri": "https://localhost:8080/",
     "height": 0
    },
    "id": "SOIR8j91BV9p",
    "outputId": "a9094f27-e210-4701-eb2c-0160d75e370d"
   },
   "outputs": [
    {
     "name": "stdout",
     "output_type": "stream",
     "text": [
      "Updated marks dictionary: {'Aarav': 85, 'Vihaan': 78, 'Aadhya': 92, 'Diya': 88, 'Ishaan': 90, 'Riya': 81}\n"
     ]
    }
   ],
   "source": [
    "# a. Add a new student and their marks to the dictionary\n",
    "marks[\"Riya\"] = 81\n",
    "print(\"Updated marks dictionary:\", marks)"
   ]
  },
  {
   "cell_type": "code",
   "execution_count": 19,
   "metadata": {
    "colab": {
     "base_uri": "https://localhost:8080/",
     "height": 0
    },
    "id": "AmyeCrIVBV9p",
    "outputId": "fa6fc70c-51ff-4154-9897-7ac3dce27989"
   },
   "outputs": [
    {
     "name": "stdout",
     "output_type": "stream",
     "text": [
      "Average marks of all students: 85.66666666666667\n"
     ]
    }
   ],
   "source": [
    "# b. Calculate the average marks of all students\n",
    "average_marks = sum(marks.values()) / len(marks)\n",
    "print(\"Average marks of all students:\", average_marks)"
   ]
  },
  {
   "cell_type": "code",
   "execution_count": 20,
   "metadata": {
    "colab": {
     "base_uri": "https://localhost:8080/",
     "height": 0
    },
    "id": "NfOdWDY3BV9p",
    "outputId": "9be6e118-3cd1-47bb-f025-c8cdedecaa92"
   },
   "outputs": [
    {
     "name": "stdout",
     "output_type": "stream",
     "text": [
      "Student with the highest marks: Aadhya\n"
     ]
    }
   ],
   "source": [
    "# c. Find the student with the highest marks\n",
    "highest_marks_student = max(marks, key=marks.get)\n",
    "print(\"Student with the highest marks:\", highest_marks_student)"
   ]
  },
  {
   "cell_type": "code",
   "execution_count": 21,
   "metadata": {
    "colab": {
     "base_uri": "https://localhost:8080/",
     "height": 0
    },
    "id": "mUzNEGs7BV9p",
    "outputId": "ee8d8d91-baca-4446-b9ac-9b7a4690f24f"
   },
   "outputs": [
    {
     "name": "stdout",
     "output_type": "stream",
     "text": [
      "Dictionary sorted by student names: {'Aadhya': 92, 'Aarav': 85, 'Diya': 88, 'Ishaan': 90, 'Riya': 81, 'Vihaan': 78}\n"
     ]
    }
   ],
   "source": [
    "# d. Sort the dictionary by student names in alphabetical order\n",
    "sorted_marks = dict(sorted(marks.items()))\n",
    "print(\"Dictionary sorted by student names:\", sorted_marks)"
   ]
  },
  {
   "cell_type": "markdown",
   "metadata": {},
   "source": [
    "#### Q3. Implement a stack using a Python list to perform the following operations:\n",
    "* a. Push five elements onto the stack.\n",
    "* b. Pop two elements from the stack.\n",
    "* c. Check if the stack is empty.\n"
   ]
  },
  {
   "cell_type": "code",
   "execution_count": 1,
   "metadata": {},
   "outputs": [
    {
     "name": "stdout",
     "output_type": "stream",
     "text": [
      "Data enqueed: 2\n",
      "Data enqueed: 3\n",
      "Data enqueed: 7\n",
      "Data enqueed: 10\n",
      "Data enqueed: 5\n",
      "Popped out value : 5\n",
      "Popped out value : 10\n",
      "Not empty\n"
     ]
    }
   ],
   "source": [
    "stack = []\n",
    "\n",
    "def pop():\n",
    "    global stack\n",
    "    if stack == []:\n",
    "        print(\"Empty stack\")\n",
    "    else:\n",
    "        print(\"Popped out value :\", stack.pop())\n",
    "\n",
    "def push(n):\n",
    "    global stack\n",
    "    stack.append(n)\n",
    "    print(\"Data enqueed:\", n)\n",
    "\n",
    "def isEmpty():\n",
    "    global stack\n",
    "    if stack == []:\n",
    "        print(\"Empty stack\")\n",
    "    else:\n",
    "        print(\"Not empty\")\n",
    "\n",
    "push(2)\n",
    "push(3)\n",
    "push(7)\n",
    "push(10)\n",
    "push(5)\n",
    "\n",
    "pop()\n",
    "pop()\n",
    "\n",
    "isEmpty()"
   ]
  },
  {
   "cell_type": "markdown",
   "metadata": {},
   "source": [
    "#### Implement a queue using a Python list to perform the following operations:\n",
    "* a. Enqueue five elements into the queue.\n",
    "* b. Dequeue three elements from the queue.\n",
    "* c. Check if the queue is empty.\n"
   ]
  },
  {
   "cell_type": "code",
   "execution_count": 2,
   "metadata": {},
   "outputs": [
    {
     "name": "stdout",
     "output_type": "stream",
     "text": [
      "Data pushed: 5\n",
      "Data pushed: 7\n",
      "Data pushed: 8\n",
      "Data pushed: 3\n",
      "Data pushed: 10\n",
      "Popped out value : 5\n",
      "Popped out value : 7\n",
      "Popped out value : 8\n",
      "Not empty\n"
     ]
    }
   ],
   "source": [
    "queue = []\n",
    "\n",
    "def deque():\n",
    "    global queue\n",
    "    if queue == []:\n",
    "        print(\"Empty queue\")\n",
    "    else:\n",
    "        print(\"Popped out value :\", queue.pop(0))\n",
    "\n",
    "def enque(n):\n",
    "    global queue\n",
    "    queue.append(n)\n",
    "    print(\"Data pushed:\", n)\n",
    "\n",
    "def isEmpty():\n",
    "    global queue\n",
    "    if queue == []:\n",
    "        print(\"Empty queue\")\n",
    "    else:\n",
    "        print(\"Not empty\")\n",
    "\n",
    "enque(5)\n",
    "enque(7)\n",
    "enque(8)\n",
    "enque(3)\n",
    "enque(10)\n",
    "\n",
    "deque()\n",
    "deque()\n",
    "deque()\n",
    "\n",
    "isEmpty()"
   ]
  },
  {
   "cell_type": "markdown",
   "metadata": {},
   "source": [
    "#### Q4. Implement a singly linked list in Python to perform the following operations:\n",
    "* a. Insert five elements at the beginning of the list.\n",
    "* b. Delete an element from the list.\n",
    "* c. Search for a specific element in the list.\n",
    "* d. Print the elements of the list in reverse order."
   ]
  },
  {
   "cell_type": "code",
   "execution_count": 3,
   "metadata": {},
   "outputs": [
    {
     "name": "stdout",
     "output_type": "stream",
     "text": [
      "Linked List after inserting elements:\n",
      "50 -> 40 -> 30 -> 20 -> 10 -> None\n",
      "\n",
      "Linked List after deleting element 30:\n",
      "50 -> 40 -> 20 -> 10 -> None\n",
      "\n",
      "Element 20 found in the list.\n",
      "\n",
      "Elements of the list in reverse order:\n",
      "10 20 40 50 \n"
     ]
    }
   ],
   "source": [
    "class Node:\n",
    "    def __init__(self, data):\n",
    "        self.data = data\n",
    "        self.next = None\n",
    "\n",
    "class SinglyLinkedList:\n",
    "    def __init__(self):\n",
    "        self.head = None\n",
    "\n",
    "    def insert_at_beginning(self, data):\n",
    "        new_node = Node(data)\n",
    "        new_node.next = self.head\n",
    "        self.head = new_node\n",
    "\n",
    "    def delete_element(self, key):\n",
    "        temp = self.head\n",
    "\n",
    "        if temp is not None:\n",
    "            if temp.data == key:\n",
    "                self.head = temp.next\n",
    "                temp = None\n",
    "                return\n",
    "\n",
    "        while temp is not None:\n",
    "            if temp.data == key:\n",
    "                break\n",
    "            prev = temp\n",
    "            temp = temp.next\n",
    "\n",
    "        if temp == None:\n",
    "            return\n",
    "\n",
    "        prev.next = temp.next\n",
    "        temp = None\n",
    "\n",
    "    def search_element(self, key):\n",
    "        current = self.head\n",
    "\n",
    "        while current is not None:\n",
    "            if current.data == key:\n",
    "                return True\n",
    "            current = current.next\n",
    "\n",
    "        return False\n",
    "\n",
    "    def print_reverse(self, node):\n",
    "        if node is None:\n",
    "            return\n",
    "        self.print_reverse(node.next)\n",
    "        print(node.data, end=' ')\n",
    "\n",
    "    def print_reverse_list(self):\n",
    "        self.print_reverse(self.head)\n",
    "        print()\n",
    "\n",
    "    def display(self):\n",
    "        current = self.head\n",
    "        while current:\n",
    "            print(current.data, end=' -> ')\n",
    "            current = current.next\n",
    "        print('None')\n",
    "\n",
    "\n",
    "sll = SinglyLinkedList()\n",
    "\n",
    "elements = [10, 20, 30, 40, 50]\n",
    "for element in elements:\n",
    "    sll.insert_at_beginning(element)\n",
    "\n",
    "print(\"Linked List after inserting elements:\")\n",
    "sll.display()\n",
    "\n",
    "sll.delete_element(30)\n",
    "print(\"\\nLinked List after deleting element 30:\")\n",
    "sll.display()\n",
    "\n",
    "search_key = 20\n",
    "found = sll.search_element(search_key)\n",
    "print(f\"\\nElement {search_key} {'found' if found else 'not found'} in the list.\")\n",
    "\n",
    "print(\"\\nElements of the list in reverse order:\")\n",
    "sll.print_reverse_list()"
   ]
  },
  {
   "cell_type": "markdown",
   "metadata": {},
   "source": [
    "#### Q5. Implement a binary search tree in Python to perform the following operations:\n",
    "* a. Insert five elements into the tree.\n",
    "* b. Search for a specific element in the tree.\n",
    "* c. Delete an element from the tree.\n",
    "* d. Print the tree using in-order traversal.\n",
    "* e. Find the height of the binary search tree.\n"
   ]
  },
  {
   "cell_type": "code",
   "execution_count": 7,
   "metadata": {},
   "outputs": [
    {
     "name": "stdout",
     "output_type": "stream",
     "text": [
      "Element After Entry\n",
      "20 30 40 50 70 \n",
      "\n",
      "Element 40 found in the tree.\n",
      "\n",
      "Tree after deleting element 30:\n",
      "20 40 50 70 \n",
      "In-order traversal of the tree:\n",
      "20 40 50 70 \n",
      "\n",
      "Height of the tree: 3\n"
     ]
    }
   ],
   "source": [
    "class TreeNode:\n",
    "    def __init__(self, key):\n",
    "        self.left = None\n",
    "        self.right = None\n",
    "        self.val = key\n",
    "\n",
    "class BinarySearchTree:\n",
    "    def __init__(self):\n",
    "        self.root = None\n",
    "\n",
    "    def insert(self, key):\n",
    "        if self.root is None:\n",
    "            self.root = TreeNode(key)\n",
    "        else:\n",
    "            self._insert(self.root, key)\n",
    "\n",
    "    def _insert(self, node, key):\n",
    "        if key < node.val:\n",
    "            if node.left is None:\n",
    "                node.left = TreeNode(key)\n",
    "            else:\n",
    "                self._insert(node.left, key)\n",
    "        else:\n",
    "            if node.right is None:\n",
    "                node.right = TreeNode(key)\n",
    "            else:\n",
    "                self._insert(node.right, key)\n",
    "\n",
    "    def search(self, key):\n",
    "        return self._search(self.root, key)\n",
    "\n",
    "    def _search(self, node, key):\n",
    "        if node is None or node.val == key:\n",
    "            return node\n",
    "        if key < node.val:\n",
    "            return self._search(node.left, key)\n",
    "        return self._search(node.right, key)\n",
    "\n",
    "    def delete(self, key):\n",
    "        self.root = self._delete(self.root, key)\n",
    "\n",
    "    def _delete(self, node, key):\n",
    "        if node is None:\n",
    "            return node\n",
    "        if key < node.val:\n",
    "            node.left = self._delete(node.left, key)\n",
    "        elif key > node.val:\n",
    "            node.right = self._delete(node.right, key)\n",
    "        else:\n",
    "            if node.left is None:\n",
    "                return node.right\n",
    "            elif node.right is None:\n",
    "                return node.left\n",
    "            temp = self._min_value_node(node.right)\n",
    "            node.val = temp.val\n",
    "            node.right = self._delete(node.right, temp.val)\n",
    "        return node\n",
    "\n",
    "    def _min_value_node(self, node):\n",
    "        current = node\n",
    "        while current.left is not None:\n",
    "            current = current.left\n",
    "        return current\n",
    "\n",
    "    def inorder_traversal(self):\n",
    "        self._inorder_traversal(self.root)\n",
    "        print()\n",
    "\n",
    "    def _inorder_traversal(self, node):\n",
    "        if node:\n",
    "            self._inorder_traversal(node.left)\n",
    "            print(node.val, end=' ')\n",
    "            self._inorder_traversal(node.right)\n",
    "\n",
    "    def height(self):\n",
    "        return self._height(self.root)\n",
    "\n",
    "    def _height(self, node):\n",
    "        if node is None:\n",
    "            return 0\n",
    "        left_height = self._height(node.left)\n",
    "        right_height = self._height(node.right)\n",
    "        return max(left_height, right_height) + 1\n",
    "\n",
    "bst = BinarySearchTree()\n",
    "\n",
    "elements = [50, 30, 20, 40, 70]\n",
    "for element in elements:\n",
    "    bst.insert(element)\n",
    "\n",
    "print(\"Element After Entry\")\n",
    "bst.inorder_traversal()\n",
    "print()\n",
    "\n",
    "search_key = 40\n",
    "found = bst.search(search_key)\n",
    "print(f\"Element {search_key} {'found' if found else 'not found'} in the tree.\")\n",
    "\n",
    "delete_key = 30\n",
    "bst.delete(delete_key)\n",
    "print(f\"\\nTree after deleting element {delete_key}:\")\n",
    "bst.inorder_traversal()\n",
    "\n",
    "print(\"In-order traversal of the tree:\")\n",
    "bst.inorder_traversal()\n",
    "\n",
    "height = bst.height()\n",
    "print(f\"\\nHeight of the tree: {height}\")"
   ]
  },
  {
   "cell_type": "code",
   "execution_count": 1,
   "metadata": {},
   "outputs": [
    {
     "name": "stdout",
     "output_type": "stream",
     "text": [
      "4\n"
     ]
    }
   ],
   "source": [
    "# VIVA\n",
    "countries = (\"USA\", \"Canada\", \"France\", \"Germany\", \"India\")\n",
    "if(\"India\" in countries):\n",
    "    print(countries.index(\"India\"))"
   ]
  },
  {
   "cell_type": "code",
   "execution_count": 13,
   "metadata": {},
   "outputs": [
    {
     "name": "stdout",
     "output_type": "stream",
     "text": [
      "20\n",
      "(20, 5, 10, 6, 9, 17, 18, 8, 1, 2) (10, 6, 9, 17, 18, 8) 68\n",
      "(20, 5, 10, 6, 9, 17, 18, 8, 1, 2)\n"
     ]
    }
   ],
   "source": [
    "tup = (20,5,10,6,9)\n",
    "lst = [17,18,8,1,2]\n",
    "\n",
    "tup = tup + tuple(lst)\n",
    "tup\n",
    "print(max(tup))\n",
    "print(sum(tup[2:len(tup)-2:]))\n",
    "print(tup[0:5000:])"
   ]
  },
  {
   "cell_type": "code",
   "execution_count": 18,
   "metadata": {},
   "outputs": [
    {
     "name": "stdout",
     "output_type": "stream",
     "text": [
      "[5, 10, 5]\n"
     ]
    }
   ],
   "source": [
    "list_1 = [15,20,5,10,5,6,11]\n",
    "# sum_ = 0\n",
    "# for i in range(2,len(list_1)-2,1):\n",
    "#     sum_+=list_1[i]\n",
    "# sum_\n",
    "\n",
    "print(list_1[2:len(list_1)-2:])"
   ]
  }
 ],
 "metadata": {
  "colab": {
   "provenance": []
  },
  "kernelspec": {
   "display_name": "mlvirt",
   "language": "python",
   "name": "python3"
  },
  "language_info": {
   "codemirror_mode": {
    "name": "ipython",
    "version": 3
   },
   "file_extension": ".py",
   "mimetype": "text/x-python",
   "name": "python",
   "nbconvert_exporter": "python",
   "pygments_lexer": "ipython3",
   "version": "3.12.4"
  }
 },
 "nbformat": 4,
 "nbformat_minor": 4
}
